{
  "nbformat": 4,
  "nbformat_minor": 0,
  "metadata": {
    "colab": {
      "provenance": [],
      "authorship_tag": "ABX9TyN/n+0Lth0qpqwf8IpJazR/",
      "include_colab_link": true
    },
    "kernelspec": {
      "name": "python3",
      "display_name": "Python 3"
    },
    "language_info": {
      "name": "python"
    }
  },
  "cells": [
    {
      "cell_type": "markdown",
      "metadata": {
        "id": "view-in-github",
        "colab_type": "text"
      },
      "source": [
        "<a href=\"https://colab.research.google.com/github/philippho01/Fibonacci-Folge/blob/master/PG2_%C3%9C5_%C3%9C6.ipynb\" target=\"_parent\"><img src=\"https://colab.research.google.com/assets/colab-badge.svg\" alt=\"Open In Colab\"/></a>"
      ]
    },
    {
      "cell_type": "markdown",
      "source": [
        "Übung 5"
      ],
      "metadata": {
        "id": "bnrU16QKmYby"
      }
    },
    {
      "cell_type": "code",
      "execution_count": null,
      "metadata": {
        "id": "aTuMdzagmJdR"
      },
      "outputs": [],
      "source": [
        "import pandas as pd\n",
        "import seaborn as sns\n",
        "from matplotlib import pyplot as plt\n",
        "from sklearn.cluster import KMeans\n",
        "from yellowbrick.cluster import KElbowVisualizer\n",
        "from sklearn.preprocessing import StandardScaler\n",
        "\n",
        "# Daten aus CSV laden\n",
        "path = \"/Users/student/PycharmProjects/Clustering_PG2/winequality-red.csv\"\n",
        "data = pd.read_csv(path, delimiter=\";\")\n",
        "\n",
        "print(data)\n",
        "\n",
        "# Werte der Tabelle in nummerische Werte umwandeln\n",
        "data_unknown = data\n",
        "data_unknown = data_unknown.astype(\"category\")\n",
        "data_unknown = data_unknown.apply(lambda x: x.cat.codes)\n",
        "\n",
        "# KElbow verwenden, um Anzahl der Gruppen zu erhalten\n",
        "model = KMeans()\n",
        "visualizer = KElbowVisualizer(model, K=(2, 9), timings=False)\n",
        "visualizer.fit(data_unknown)\n",
        "visualizer.show()\n",
        "\n",
        "# Anzahl Gruppen eintragen\n",
        "KMeans = KMeans(n_clusters=4)\n",
        "\n",
        "# Tabelle mit neuer Spalte 'Label' (Gruppennummer) in neue CSV speichern\n",
        "pred = KMeans.fit_predict(data_unknown)\n",
        "data_new = pd.concat([data, pd.DataFrame(pred, columns=[\"label\"])], axis=1)\n",
        "print(data_new)\n",
        "data_new.to_csv(\"./data_new_winequality-red.csv\")\n",
        "\n",
        "# ScatterPlot\n",
        "plt.scatter(data_new['quality'], data_new['residual sugar'])\n",
        "plt.title('Weinqualität')\n",
        "plt.xlabel('Qualität')\n",
        "plt.ylabel('Restzucker')\n",
        "plt.show()"
      ]
    },
    {
      "cell_type": "markdown",
      "source": [
        "Übung 6"
      ],
      "metadata": {
        "id": "0bfBCmFQmbV_"
      }
    },
    {
      "cell_type": "code",
      "source": [
        "import pandas as pd\n",
        "import seaborn as sns\n",
        "from matplotlib import pyplot as plt\n",
        "from sklearn.cluster import KMeans\n",
        "from yellowbrick.cluster import KElbowVisualizer\n",
        "from sklearn.preprocessing import StandardScaler\n",
        "\n",
        "# 1.1 Daten aus CSV laden\n",
        "path = \"/Users/student/PycharmProjects/Clustering_PG2/winequality-red.csv\"\n",
        "data = pd.read_csv(path, delimiter=\";\")\n",
        "\n",
        "# 1.2 die ersten und letzten 5 Zeilen ausgeben\n",
        "print('#'*100)\n",
        "print('Aufgabe 1.2')\n",
        "\n",
        "print(data.head())\n",
        "print(data.tail())\n",
        "\n",
        "# 1.3 Anzahl Zeilen und Spalten + Datentyp\n",
        "print('#'*100)\n",
        "print('Aufgabe 1.3')\n",
        "\n",
        "print(data.info())\n",
        "\n",
        "# 2.1 Überprüfen Sie den Datensatz auf fehlende Werte und behandeln Sie diese entsprechend (z.B. durch Entfernen oder Ersetzen).\n",
        "print('#'*100)\n",
        "print('Aufgabe 2.1')\n",
        "\n",
        "print(data.isnull().any())\n",
        "\n",
        "# 2.2 Duplikate entfernen\n",
        "print('#'*100)\n",
        "print('Aufgabe 2.2')\n",
        "\n",
        "print(data.duplicated())\n",
        "data = data.drop_duplicates()\n",
        "print(data.duplicated())\n",
        "\n",
        "# 3.1 statistische Kennzahlen\n",
        "print('#'*100)\n",
        "print('Aufgabe 3.1')\n",
        "\n",
        "descriptive_statistic = data.describe()\n",
        "print(descriptive_statistic)\n",
        "\n",
        "# 3.2 Ermitteln Sie die Korrelation zwischen der Qualität des Weins und anderen chemischen Eigenschaften.\n",
        "print('#'*100)\n",
        "print('Aufgabe 3.2')\n",
        "\n",
        "correlation = data.corr()\n",
        "print(correlation['quality'].sort_values())\n",
        "\n",
        "# 4.1 Histogramm\n",
        "print('#'*100)\n",
        "print('Aufgabe 4.1')\n",
        "print('Histogramm')\n",
        "\n",
        "data['alcohol'].hist()\n",
        "plt.title('Verteilung des Alkoholgehalts')\n",
        "plt.show()\n",
        "\n",
        "# 4.2 ScatterPlot\n",
        "print('#'*100)\n",
        "print('Aufgabe 4.2')\n",
        "print('ScatterPlot')\n",
        "\n",
        "plt.scatter(data['alcohol'], data['quality'])\n",
        "plt.title('Alkoholgehalt vs. Qualität des Weins')\n",
        "plt.show()\n",
        "\n",
        "# 4.3 BoxPlot\n",
        "print('#'*100)\n",
        "print('Aufgabe 4.3')\n",
        "print('BoxPlot')\n",
        "\n",
        "data.boxplot(column='alcohol', by='quality')\n",
        "plt.title('Alkoholgehalt nach Weinqualität')\n",
        "plt.show()"
      ],
      "metadata": {
        "id": "CbwAMprimcl8"
      },
      "execution_count": null,
      "outputs": []
    },
    {
      "cell_type": "markdown",
      "source": [
        "Übung 7"
      ],
      "metadata": {
        "id": "Yj9qqyOUmhrc"
      }
    },
    {
      "cell_type": "code",
      "source": [
        "import pandas as pd\n",
        "import seaborn as sns\n",
        "from matplotlib import pyplot as plt\n",
        "from sklearn.cluster import KMeans\n",
        "from yellowbrick.cluster import KElbowVisualizer\n",
        "from sklearn.preprocessing import StandardScaler\n",
        "\n",
        "# 1.1 Daten aus CSV laden\n",
        "path = \"/Users/student/PycharmProjects/Clustering_PG2/abalone.data\"\n",
        "data = pd.read_csv(path, delimiter=\",\", header=None)\n",
        "\n",
        "# 1.2 die ersten und letzten 5 Zeilen ausgeben\n",
        "print('#'*100)\n",
        "print('Aufgabe 1.2')\n",
        "\n",
        "print(data.head())\n",
        "print(data.tail())\n",
        "\n",
        "# 1.3 Anzahl Zeilen und Spalten + Datentyp\n",
        "print('#'*100)\n",
        "print('Aufgabe 1.3')\n",
        "\n",
        "print(data.info())\n",
        "\n",
        "# 2.1 Überprüfen Sie den Datensatz auf fehlende Werte und behandeln Sie diese entsprechend (z.B. durch Entfernen oder Ersetzen).\n",
        "print('#'*100)\n",
        "print('Aufgabe 2.1')\n",
        "\n",
        "print(data.isnull().any())\n",
        "\n",
        "# 2.2 Duplikate entfernen\n",
        "print('#'*100)\n",
        "print('Aufgabe 2.2')\n",
        "\n",
        "print(data.duplicated())\n",
        "data = data.drop_duplicates()\n",
        "print(data.duplicated())\n",
        "\n",
        "# 3.1 statistische Kennzahlen\n",
        "print('#'*100)\n",
        "print('Aufgabe 3.1')\n",
        "\n",
        "descriptive_statistic = data.describe()\n",
        "print(descriptive_statistic)\n",
        "\n",
        "# 3.2 Ermitteln Sie die Korrelation zwischen der Qualität des Weins und anderen chemischen Eigenschaften.\n",
        "print('#'*100)\n",
        "print('Aufgabe 3.2')\n",
        "\n",
        "# Werte der Tabelle in nummerische Werte umwandeln\n",
        "data_unknown = data\n",
        "data_unknown = data_unknown.astype(\"category\")\n",
        "data_unknown = data_unknown.apply(lambda x: x.cat.codes)\n",
        "\n",
        "# KElbow verwenden, um Anzahl der Gruppen zu erhalten\n",
        "model = KMeans()\n",
        "visualizer = KElbowVisualizer(model, K=(2, 9), timings=False)\n",
        "visualizer.fit(data_unknown)\n",
        "visualizer.show()\n",
        "\n",
        "# Anzahl Gruppen eintragen\n",
        "KMeans = KMeans(n_clusters=4)\n",
        "\n",
        "# Tabelle mit neuer Spalte 'Label' (Gruppennummer) in neue CSV speichern\n",
        "pred = KMeans.fit_predict(data_unknown)\n",
        "data_new = pd.concat([data, pd.DataFrame(pred, columns=[\"label\"])], axis=1)\n",
        "print(data_new)\n",
        "data_new.to_csv(\"./data_new_abalone.data\")"
      ],
      "metadata": {
        "id": "ahmc04rnmjRz"
      },
      "execution_count": null,
      "outputs": []
    }
  ]
}