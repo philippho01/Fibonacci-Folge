{
  "nbformat": 4,
  "nbformat_minor": 0,
  "metadata": {
    "colab": {
      "provenance": [],
      "authorship_tag": "ABX9TyNdrdkvAGI68H0qcwS53lhe",
      "include_colab_link": true
    },
    "kernelspec": {
      "name": "python3",
      "display_name": "Python 3"
    },
    "language_info": {
      "name": "python"
    }
  },
  "cells": [
    {
      "cell_type": "markdown",
      "metadata": {
        "id": "view-in-github",
        "colab_type": "text"
      },
      "source": [
        "<a href=\"https://colab.research.google.com/github/philippho01/Fibonacci-Folge/blob/master/PG2_%C3%9C3_%C3%9C4.ipynb\" target=\"_parent\"><img src=\"https://colab.research.google.com/assets/colab-badge.svg\" alt=\"Open In Colab\"/></a>"
      ]
    },
    {
      "cell_type": "markdown",
      "source": [
        "Übung Diamonds"
      ],
      "metadata": {
        "id": "hP_ZSTl9lSIi"
      }
    },
    {
      "cell_type": "code",
      "execution_count": null,
      "metadata": {
        "id": "Mb2-oTe1k6gz"
      },
      "outputs": [],
      "source": [
        "import pandas as pd\n",
        "from sklearn.cluster import KMeans\n",
        "from yellowbrick.cluster import KElbowVisualizer\n",
        "from sklearn.preprocessing import StandardScaler\n",
        "\n",
        "path = \"/Users/student/PycharmProjects/Clustering_PG2/diamonds.csv\"\n",
        "data = pd.read_csv(path, delimiter=\",\")\n",
        "data_unknown = data.drop(['cut', 'Unnamed: 0'], axis=1)\n",
        "# transformieren\n",
        "conv_num = ['clarity', 'color']\n",
        "data_unknown[conv_num] = data_unknown[conv_num].astype('category')\n",
        "data_unknown[conv_num] = data_unknown[conv_num].apply(lambda x: x.cat.codes)\n",
        "\n",
        "s_scaler = StandardScaler()\n",
        "data_unknown = pd.DataFrame(s_scaler.fit_transform(data_unknown), columns=data_unknown.columns)\n",
        "print(data_unknown)\n",
        "\n",
        "model = KMeans()\n",
        "visualizer = KElbowVisualizer(model, K=(2, 9), timings=False)\n",
        "visualizer.fit(data_unknown)\n",
        "visualizer.show()\n",
        "KMeans = KMeans(n_clusters=5)\n",
        "pred = KMeans.fit_predict(data_unknown)\n",
        "data_new = pd.concat([data, pd.DataFrame(pred, columns=[\"label\"])], axis=1)\n",
        "print(data_new)\n",
        "data_new.to_csv(\"./data_new_dimonds.csv\")"
      ]
    },
    {
      "cell_type": "markdown",
      "source": [
        "Übung Iris"
      ],
      "metadata": {
        "id": "NWEXgpzalcLA"
      }
    },
    {
      "cell_type": "code",
      "source": [
        "import tensorflow as tf\n",
        "import pandas as pd\n",
        "from sklearn.model_selection import train_test_split\n",
        "from sklearn.preprocessing import StandardScaler\n",
        "import matplotlib.pyplot as plt\n",
        "\n",
        "#Aufgabe 1\n",
        "path = \"/Users/student/PycharmProjects/Clustering_PG2/iris.csv\"\n",
        "data = pd.read_csv(path, delimiter=',')\n",
        "print(data.head())\n",
        "\n",
        "#Aufgabe 3\n",
        "#x = [data['sepal.length']]\n",
        "#y = [data['sepal.width']]\n",
        "\n",
        "\n",
        "#Aufgabe 4 (siehe auch OneNote'Clustering')\n",
        "\n",
        "setosa = data[data['species'] == 'Setosa']\n",
        "versicolor = data[data['species'] == 'Versicolor']\n",
        "virginica = data[data['species'] == 'Virginica']\n",
        "\n",
        "#mögliche Lösung\n",
        "'''\n",
        "x = [setosa['sepal.length'], versicolor['sepal.length'], virginica['sepal.length']]\n",
        "y = [setosa['sepal.width'], versicolor['sepal.width'], virginica['sepal.width']]\n",
        "\n",
        "plt.scatter(x, y)\n",
        "plt.show()\n",
        "'''\n",
        "\n",
        "#Lehrer-Lösung\n",
        "plt.scatter(setosa['sepal.length'], setosa['sepal.width'], color='red', marker='s')\n",
        "plt.scatter(versicolor['sepal.length'], versicolor['sepal.width'], color='blue', marker='o')\n",
        "plt.scatter(virginica['sepal.length'], virginica['sepal.width'], color='green', marker='^')\n",
        "\n",
        "plt.xlabel('sepal.length')\n",
        "plt.ylabel('sepal.width')\n",
        "plt.show()"
      ],
      "metadata": {
        "id": "ErBbjILBld8V"
      },
      "execution_count": null,
      "outputs": []
    },
    {
      "cell_type": "markdown",
      "source": [
        "Übung 3 Adult"
      ],
      "metadata": {
        "id": "vAByih8rlj_R"
      }
    },
    {
      "cell_type": "code",
      "source": [
        "import pandas as pd\n",
        "import matplotlib.pyplot as plt\n",
        "import seaborn as sns\n",
        "from sklearn.cluster import KMeans\n",
        "from yellowbrick.cluster import KElbowVisualizer\n",
        "from sklearn.preprocessing import StandardScaler\n",
        "\n",
        "# Übung-3\n",
        "# Übung 1.1 (Datensatz in Pandas DataFrame laden)\n",
        "print('#'*150)\n",
        "print('Aufgabe 1.1')\n",
        "path = \"/Users/student/PycharmProjects/Clustering_PG2/adult 2.csv\"\n",
        "data = pd.read_csv(path)\n",
        "\n",
        "# Übung 1.2 (die ersten und letzten 5 ausgeben)\n",
        "print('#'*150)\n",
        "print('Aufgabe 1.2')\n",
        "print(data.head())\n",
        "print(data.tail())\n",
        "\n",
        "# Übung 1.3 (Zusammenfassung des DataFrames + infos)\n",
        "print('#'*150)\n",
        "print('Aufgabe 1.3')\n",
        "print(data.info())\n",
        "\n",
        "# Übung 2.1 (Zeilen 'age', 'occupation' und 'income' ausgeben mit 10 Zeilen)\n",
        "print('#'*150)\n",
        "print('Aufgabe 2.1')\n",
        "new_data = data[['age', 'occupation', 'income']]\n",
        "print(new_data.head(10))\n",
        "\n",
        "# Übung 2.2 (Filtern 'income' ist '>50K')\n",
        "print('#'*150)\n",
        "print('Aufgabe 2.2')\n",
        "incomefilter = new_data[(new_data['income'] == '>50K')]\n",
        "print(incomefilter)\n",
        "\n",
        "# Übung 2.3 (Filter 'age' ist größer 30 und 'education' ist 'Bachelors')\n",
        "print('#'*150)\n",
        "print('Aufgabe 2.3')\n",
        "a_e_data = data[['age', 'education']]\n",
        "age_education = a_e_data[(a_e_data['age'] > 30) & (a_e_data['education'] == 'Bachelors')]\n",
        "print(age_education.head(10))\n",
        "\n",
        "# Übung 3.1 (neue Spalte hinzufügen: Alter in Jahrzehnten (alter/10))\n",
        "print('#'*150)\n",
        "print('Aufgabe 3.1')\n",
        "data['age_decade'] = data['age']/10\n",
        "age_decade_data = data[['age', 'age_decade']]\n",
        "print(age_decade_data.head(10))\n",
        "\n",
        "# Übung 3.2 (Ersetzte in der 'income'-Spalte die Werte '>50K' und '<=50K' durch 'high' und 'low')\n",
        "print('#'*150)\n",
        "print('Aufgabe 3.2')\n",
        "data = data.replace(['>50K'], 'high')\n",
        "data = data.replace(['<=50K'], 'low')\n",
        "print(data.head(10))\n",
        "\n",
        "# Übung 3.3 (alle Zeilen löschen, indenen die 'occupation' 'Unknown' ist)\n",
        "print('#'*150)\n",
        "print('Aufgabe 3.3')\n",
        "new_data2 = data[['age', 'occupation', 'income']]\n",
        "new_data2 = new_data2[new_data2['occupation'] != '?']\n",
        "print(new_data2.head(10))\n",
        "\n",
        "# Übung 4.1 (zeige die deskriptiven Statistiken für Spalte 'age')\n",
        "print('#'*150)\n",
        "print('Aufgabe 4.1')\n",
        "descriptive_statistic = data.describe()\n",
        "print(descriptive_statistic)\n",
        "\n",
        "# Übung 4.2 (Gruppieren und Aggregieren (Berechne den Durchschnitt von 'age', gruppiert nach 'income'))\n",
        "print('#'*150)\n",
        "print('Aufgabe 4.2')\n",
        "gruppiert = data.groupby('income')['age'].mean()\n",
        "print(gruppiert)\n",
        "\n",
        "# Übung 4.3 (finde alle einzigartigen Werte in der 'education'-Spalte)\n",
        "print('#'*150)\n",
        "print('Aufgabe 4.3')\n",
        "einzigartig = data['education'].unique()\n",
        "print(einzigartig)\n",
        "\n",
        "# Übung 5.1 (Boxplot für 'age', gruppiert nach 'income')\n",
        "print('#'*150)\n",
        "print('Aufgabe 5.1')\n",
        "print('Box-Plot')\n",
        "\n",
        "fig, ax = plt.subplots(figsize=(10,8))\n",
        "plt.suptitle('')\n",
        "data.boxplot(column=['age'], by='income', ax=ax)\n",
        "plt.show()\n",
        "\n",
        "# Übung 5.2 (erstelle einen Scatter Plot von 'age' gegen 'hours-per-week', farbkodiert nach 'income')\n",
        "print('#'*150)\n",
        "print('Aufgabe 5.2')\n",
        "print('Scatter-Plot')\n",
        "\n",
        "plt.figure(figsize = (10, 6))\n",
        "sns.scatterplot(x='age', y='hours-per-week', hue='income', data=data, palette='coolwarm')\n",
        "plt.title('Scatter Plot von age gegen hours-per-week')\n",
        "plt.xlabel('Alter')\n",
        "plt.ylabel('Stunden pro Woche')\n",
        "\n",
        "plt.xlim(data['age'].min(), data['age'].max())\n",
        "plt.ylim(data['hours-per-week'].min(), None) # anstatt None kann auch eine Zahl eingegeben werden\n",
        "\n",
        "plt.legend(title='Einkommen')\n",
        "plt.show()"
      ],
      "metadata": {
        "id": "QX487ChClk8L"
      },
      "execution_count": null,
      "outputs": []
    },
    {
      "cell_type": "markdown",
      "source": [
        "Übung 4"
      ],
      "metadata": {
        "id": "55THZA5WlrP2"
      }
    },
    {
      "cell_type": "code",
      "source": [
        "import pandas as pd\n",
        "from sklearn.cluster import KMeans\n",
        "from yellowbrick.cluster import KElbowVisualizer\n",
        "from sklearn.preprocessing import StandardScaler\n",
        "\n",
        "# Übung-4\n",
        "# Aufgabe 1 (Datensatz in Pandas DataFrame laden)\n",
        "print('#'*150)\n",
        "print('Aufgabe 1.')\n",
        "\n",
        "path = \"/Users/student/PycharmProjects/Clustering_PG2/adult 2.csv\"\n",
        "data = pd.read_csv(path)\n",
        "\n",
        "# Aufgabe 2 (die ersten Zeilen ausgeben)\n",
        "print('#'*150)\n",
        "print('Aufgabe 2.')\n",
        "\n",
        "print(data.head())\n",
        "\n",
        "# Aufgabe 3 (alle Spalten mit Zeichenketten un numerische Werte transformieren)\n",
        "print('#'*150)\n",
        "print('Aufgabe 3.')\n",
        "\n",
        "cols_to_transform = ['workclass', 'education', 'marital-status', 'occupation', 'relationship', 'race', 'gender', 'native-country', 'income']\n",
        "data[cols_to_transform] = data[cols_to_transform].astype('category')\n",
        "data[cols_to_transform] = data[cols_to_transform].apply(lambda x: x.cat.codes)\n",
        "print(data)\n",
        "\n",
        "# Aufgabe 4 (optimale Gruppenzahl ermitteln, hier = 4)\n",
        "print('#'*150)\n",
        "print('Aufgabe 4.')\n",
        "\n",
        "# Wenn ergebnis von Scaler eine Parabel ist, Scaler nicht verwneden(hier kann keine exakte Gruppenanzahl ermittlet werden)\n",
        "# einfach ausprobieren!\n",
        "\n",
        "#s_scaler = StandardScaler()\n",
        "#data = pd.DataFrame(s_scaler.fit_transform(data), columns=data.columns)\n",
        "#print(data)\n",
        "\n",
        "model = KMeans()\n",
        "visualizer = KElbowVisualizer(model, K=(2, 9), timings=False)\n",
        "visualizer.fit(data)\n",
        "visualizer.show()\n",
        "\n",
        "# Aufgabe 5 (Datensatz gruppieren)\n",
        "print('#'*150)\n",
        "print('Aufgabe 5.')\n",
        "\n",
        "KMeans = KMeans(n_clusters=4)\n",
        "\n",
        "# Aufgabe 6 (Tabelle mit neuer Spalte 'Label' (Gruppennummer) in neue CSV speichern)\n",
        "print('#'*150)\n",
        "print('Aufgabe 6.')\n",
        "\n",
        "pred = KMeans.fit_predict(data)\n",
        "data_new = pd.concat([data, pd.DataFrame(pred, columns=[\"label\"])], axis=1)\n",
        "print(data_new)\n",
        "data_new.to_csv(\"./data_new_adult.csv\")"
      ],
      "metadata": {
        "id": "4J6w4_wSlqx5"
      },
      "execution_count": null,
      "outputs": []
    }
  ]
}